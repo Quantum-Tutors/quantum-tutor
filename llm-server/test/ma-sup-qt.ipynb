{
 "cells": [
  {
   "cell_type": "code",
   "execution_count": 95,
   "metadata": {},
   "outputs": [
    {
     "data": {
      "text/plain": [
       "True"
      ]
     },
     "execution_count": 95,
     "metadata": {},
     "output_type": "execute_result"
    }
   ],
   "source": [
    "from langchain_core.messages import (\n",
    "    BaseMessage,\n",
    "    HumanMessage,\n",
    "    ToolMessage,\n",
    "    AIMessage\n",
    ")\n",
    "from langchain_core.runnables import RunnableLambda\n",
    "from langgraph.prebuilt import ToolNode\n",
    "from langchain_core.prompts import ChatPromptTemplate, MessagesPlaceholder\n",
    "from langgraph.graph import END, StateGraph, START\n",
    "from langchain_ollama import ChatOllama\n",
    "from langchain_groq import ChatGroq\n",
    "\n",
    "import functools\n",
    "import operator\n",
    "from pydantic import BaseModel\n",
    "from typing import Annotated, Sequence, TypedDict, Literal, List\n",
    "\n",
    "\n",
    "\n",
    "import os\n",
    "from dotenv import load_dotenv\n",
    "load_dotenv(os.path.join('../config/','.env'))  \n"
   ]
  },
  {
   "cell_type": "code",
   "execution_count": 96,
   "metadata": {},
   "outputs": [],
   "source": [
    "# This defines the object that is passed between each node\n",
    "# in the graph. We will create different nodes for each agent and tool\n",
    "conversation_states = ['Initial','Exploring','Probing','Concluding']\n",
    "members = ['conversation_state_tracker']\n",
    "options = [\"FINISH\"] + members\n",
    "\n",
    "class conversationStateTrackerResponse(BaseModel):\n",
    "    # content: Literal[*conversation_states]\n",
    "    content: str\n",
    "    \n",
    "class AgentState(TypedDict):\n",
    "    messages: Annotated[Sequence[BaseMessage], operator.add]\n",
    "    next: str\n",
    "\n",
    "class routeResponse(BaseModel):\n",
    "    next: Literal[*options]\n",
    "    \n",
    "# Helper function to create a node for a given agent\n",
    "def agent_node(state, agent, name) -> AgentState:\n",
    "    result = agent.invoke(state)\n",
    "    return {\"messages\": [ AIMessage(**result.dict(exclude={\"type\", \"name\"}), name=name)]}\n",
    "    # return {\"messages\": [HumanMessage(content=result.content,name=name)],\"next\":\"supervisor\"}"
   ]
  },
  {
   "cell_type": "code",
   "execution_count": 97,
   "metadata": {},
   "outputs": [],
   "source": [
    "def create_conversation_state_tracker(llm):\n",
    "    \"\"\"Create an agent, that can analyze the current conversation and return from one of the values: ['Initial','Exploring','Probing','Concluding']\"\"\"\n",
    "    prompt = ChatPromptTemplate.from_messages(\n",
    "        [\n",
    "            (\n",
    "                \"system\",\n",
    "                \"Analyze the messages:\"\n",
    "            ),\n",
    "            MessagesPlaceholder(variable_name=\"messages\"),\n",
    "            (\n",
    "                \"Determine the current conversation state in Socratic learning Method to decide what to do next. \"\n",
    "                \"Consider factors such as the topic, depth of discussion, and user engagement. \"\n",
    "                \"Return one from this List [Initial,Exploring,Probing,Concluding]\"\n",
    "                \"Respond with only on of the possible states and explanation for each states are as follows:\"\n",
    "                \" - Initial -> meaning that the user is at The beginning stage of the conversation.\"\n",
    "                \" - Exploring -> meaning that the user is at an In-depth discussion and exploration of topics.\"\n",
    "                \" - Probing -> meaning that the user is Asking deeper questions to uncover more information.\"\n",
    "                \" - Concluding -> meaning that the user is at Wrapping up the conversation and reaching a conclusion.\"\n",
    "                \"Example for each state value:\"\n",
    "                \" - query: 'Hi, I'm new to Machine Learning, where should I start?' \"\n",
    "                \"   return: 'Initial'\"\n",
    "                \" - query: 'Can you explain the difference between supervised and unsupervised learning?' \"\n",
    "                \"   return: 'Exploring'\"\n",
    "                \" - query: 'What happens if we use a high learning rate in training?' \"\n",
    "                \"   return: 'Probing'\"\n",
    "                \" - query: 'Got it, thanks for your help with Machine Learning basics.' \"\n",
    "                \"   return: 'Concluding'\"\n",
    "                # \"Also finally once the state has been decided, return FINISH for the next variable\"\n",
    "            ),\n",
    "        ]\n",
    "    )\n",
    "    return prompt | llm\n",
    "    # return prompt | llm.with_structured_output(conversationStateTrackerResponse)"
   ]
  },
  {
   "cell_type": "code",
   "execution_count": 98,
   "metadata": {},
   "outputs": [],
   "source": [
    "# system_prompt = (\n",
    "#     \"You are helpful assistant, who can perform required task\"\n",
    "#     \"Given a task you need to return the current state of the conversation\"\n",
    "#     \"You are the best Socratic tutor, guiding the user towards understanding their own errors or misconceptions or in learning a new concept.\"\n",
    "#     \"Your role:\"\n",
    "#     \"    Questioning: Ask probing questions to challenge the user's assumptions and encourage deeper thinking.\"\n",
    "#     \"    Clarification: Request clarification when the user's responses are unclear or contradictory.\"\n",
    "#     \"    Counter-arguments: Present counter-arguments to the user's claims to help them identify flaws in their reasoning.\"\n",
    "#     \"    Guidance: Provide hints or suggestions to nudge the user towards the correct understanding.\"\n",
    "#     \"    New Concepts: If learning new concepts, then list some related concepts to the given concept and ask the user whether he knows it or not. \"\n",
    "#     \"    Based on his existing knowledge, ask questions on the concpets he knows and converge on the new concept.\"\n",
    "#     \"Focus:\"\n",
    "#     \"    Concept understanding: Help the user grasp the underlying concepts and principles.\"\n",
    "#     \"    Error identification: Assist the user in recognizing and correcting their mistakes.\"\n",
    "#     \"    Critical thinking: Encourage the user to think critically and evaluate their own arguments.\"\n",
    "#     \"Example Questions: (Ask such questions with respect to the context the user has provided.)\"\n",
    "#         \"Can you explain why you chose this approach?\"\n",
    "#         \"What are the potential drawbacks of this solution?\"\n",
    "#         \"How could you test your code to verify its correctness?\"\n",
    "#         \"Can you think of a simpler or more efficient way to achieve the same result?\"\n",
    "#     \"Remember: Your primary goal is to facilitate learning, not to provide answers. \"\n",
    "#     \"By asking thought-provoking questions, you can help the user develop a deeper understanding of the topic and improve their problem-solving skills.\"\n",
    "#     \"You have access to the following workers:\"\n",
    "#     \"{members} used to retrieve the current state of the conversation.\"\n",
    "#     \"When you need to use a worker respond with the worker to act next\"\n",
    "#     \"Once you have received the state, respond with FINISH\"\n",
    "# )\n"
   ]
  },
  {
   "cell_type": "code",
   "execution_count": 99,
   "metadata": {},
   "outputs": [],
   "source": [
    "system_prompt = (\n",
    "    \"You are a supervisor tasked with managing a conversation between the\"\n",
    "    \" following workers:  {members}. Given the following user request,\"\n",
    "    \" respond with the worker to act next. Each worker will perform a\"\n",
    "    \" task and respond with their results and status. When finished,\"\n",
    "    \" respond with FINISH.\"\n",
    "    )\n",
    "llm = ChatGroq(\n",
    "    model=\"llama3-groq-8b-8192-tool-use-preview\",\n",
    "    # model=\"llama-3.1-8b-instant\",\n",
    "    temperature=0.0,\n",
    "    max_retries=2,\n",
    "    # other params...\n",
    ")\n",
    "prompt = ChatPromptTemplate.from_messages(\n",
    "    [\n",
    "        (\"system\", system_prompt),\n",
    "        MessagesPlaceholder(variable_name=\"messages\"),\n",
    "        (\n",
    "            \"system\",\n",
    "            \"By analysing the above conversation if the state of the conversation is decided then select FINISH\"\n",
    "            # \"Given the conversation above, who should act next?\"\n",
    "            # \" Or should we FINISH? Select one of: FINISH, {options}\",\n",
    "        ),\n",
    "    ]\n",
    ").partial(options=\", \".join(options), members=\", \".join(members))\n",
    "# print(prompt)\n",
    "def supervisor_agent(state):\n",
    "    supervisor_chain = (\n",
    "        prompt\n",
    "        | llm.with_structured_output(routeResponse)\n",
    "    )\n",
    "    return supervisor_chain.invoke(state)"
   ]
  },
  {
   "cell_type": "code",
   "execution_count": 100,
   "metadata": {},
   "outputs": [],
   "source": [
    "conversation_state_tracker_agent = create_conversation_state_tracker(llm)\n",
    "conversation_state_tracker_node = functools.partial(agent_node, agent=conversation_state_tracker_agent, name='conversation_state_tracker')\n",
    "\n",
    "workflow = StateGraph(AgentState)\n",
    "workflow.add_node(\"conversation_state_tracker\", conversation_state_tracker_node)\n",
    "workflow.add_node(\"supervisor\", supervisor_agent)\n",
    "\n",
    "for member in members:\n",
    "    # We want our workers to ALWAYS \"report back\" to the supervisor when done\n",
    "    workflow.add_edge(member, \"supervisor\")\n",
    "\n",
    "conditional_map = {k: k for k in members}\n",
    "conditional_map[\"FINISH\"] = END\n",
    "\n",
    "def router(state) -> Literal[*options]:\n",
    "    \n",
    "    if \"FINISH\" == state['next']:\n",
    "        return \"FINISH\"\n",
    "    else:\n",
    "        return state['next']\n",
    "\n",
    "# def router(supervisor_response: routeResponse) -> Literal[*options]:\n",
    "#     print(supervisor_response)\n",
    "#     return supervisor_response['next']\n",
    "\n",
    "workflow.add_conditional_edges(\"supervisor\", router, conditional_map)\n",
    "# Finally, add entrypoint\n",
    "workflow.add_edge(START, \"supervisor\")\n",
    "\n",
    "graph = workflow.compile()"
   ]
  },
  {
   "cell_type": "code",
   "execution_count": 101,
   "metadata": {},
   "outputs": [
    {
     "data": {
      "image/jpeg": "[encoded data removed]",
      "text/plain": [
       "<IPython.core.display.Image object>"
      ]
     },
     "metadata": {},
     "output_type": "display_data"
    }
   ],
   "source": [
    "from IPython.display import Image, display\n",
    "\n",
    "try:\n",
    "    display(Image(graph.get_graph(xray=True).draw_mermaid_png()))\n",
    "except Exception:\n",
    "    # This requires some extra dependencies and is optional\n",
    "    pass"
   ]
  },
  {
   "cell_type": "code",
   "execution_count": 102,
   "metadata": {},
   "outputs": [
    {
     "name": "stdout",
     "output_type": "stream",
     "text": [
      "{'supervisor': {'next': 'conversation_state_tracker'}}\n",
      "----\n",
      "{'conversation_state_tracker': {'messages': [AIMessage(content='Based on the conversation, the current state is \"Initial\". The user is at the beginning stage of the conversation, expressing interest in learning Datastructures.', response_metadata={'token_usage': {'completion_tokens': 31, 'prompt_tokens': 283, 'total_tokens': 314, 'completion_time': 0.027824555, 'prompt_time': 0.038061012, 'queue_time': 0.0012195880000000006, 'total_time': 0.065885567}, 'model_name': 'llama3-groq-8b-8192-tool-use-preview', 'system_fingerprint': 'fp_260dc69250', 'finish_reason': 'stop', 'logprobs': None}, name='conversation_state_tracker', id='run-e5af523e-4365-41a1-ba61-7b937c2b3ca3-0', usage_metadata={'input_tokens': 283, 'output_tokens': 31, 'total_tokens': 314})]}}\n",
      "----\n",
      "{'supervisor': {'next': 'conversation_state_tracker'}}\n",
      "----\n",
      "{'conversation_state_tracker': {'messages': [AIMessage(content='The current conversation state is \"Initial\". The user is at the beginning stage of the conversation, expressing interest in learning Datastructures.', response_metadata={'token_usage': {'completion_tokens': 27, 'prompt_tokens': 318, 'total_tokens': 345, 'completion_time': 0.024081201, 'prompt_time': 0.042445228, 'queue_time': 0.0012693859999999973, 'total_time': 0.066526429}, 'model_name': 'llama3-groq-8b-8192-tool-use-preview', 'system_fingerprint': 'fp_260dc69250', 'finish_reason': 'stop', 'logprobs': None}, name='conversation_state_tracker', id='run-89a93ecd-4409-44d4-aaf4-247bacabe6f1-0', usage_metadata={'input_tokens': 318, 'output_tokens': 27, 'total_tokens': 345})]}}\n",
      "----\n",
      "{'supervisor': {'next': 'conversation_state_tracker'}}\n",
      "----\n",
      "{'conversation_state_tracker': {'messages': [AIMessage(content='The current conversation state is \"Initial\". The user is at the beginning stage of the conversation, expressing interest in learning Datastructures.', response_metadata={'token_usage': {'completion_tokens': 27, 'prompt_tokens': 349, 'total_tokens': 376, 'completion_time': 0.024072101, 'prompt_time': 0.046738549, 'queue_time': 0.00107815, 'total_time': 0.07081065}, 'model_name': 'llama3-groq-8b-8192-tool-use-preview', 'system_fingerprint': 'fp_260dc69250', 'finish_reason': 'stop', 'logprobs': None}, name='conversation_state_tracker', id='run-ea3e402a-0cd7-4407-838b-f06cdd8690ef-0', usage_metadata={'input_tokens': 349, 'output_tokens': 27, 'total_tokens': 376})]}}\n",
      "----\n",
      "{'supervisor': {'next': 'conversation_state_tracker'}}\n",
      "----\n",
      "{'conversation_state_tracker': {'messages': [AIMessage(content='The current conversation state is \"Initial\". The user is at the beginning stage of the conversation, expressing interest in learning Datastructures.', response_metadata={'token_usage': {'completion_tokens': 27, 'prompt_tokens': 380, 'total_tokens': 407, 'completion_time': 0.02408199, 'prompt_time': 0.050703297, 'queue_time': 0.0009975129999999985, 'total_time': 0.074785287}, 'model_name': 'llama3-groq-8b-8192-tool-use-preview', 'system_fingerprint': 'fp_260dc69250', 'finish_reason': 'stop', 'logprobs': None}, name='conversation_state_tracker', id='run-dc1abd66-cb5b-4ead-b70a-384e82099eef-0', usage_metadata={'input_tokens': 380, 'output_tokens': 27, 'total_tokens': 407})]}}\n",
      "----\n",
      "{'supervisor': {'next': 'conversation_state_tracker'}}\n",
      "----\n"
     ]
    },
    {
     "ename": "KeyboardInterrupt",
     "evalue": "",
     "output_type": "error",
     "traceback": [
      "\u001b[0;31m---------------------------------------------------------------------------\u001b[0m",
      "\u001b[0;31mKeyboardInterrupt\u001b[0m                         Traceback (most recent call last)",
      "Cell \u001b[0;32mIn[102], line 1\u001b[0m\n\u001b[0;32m----> 1\u001b[0m \u001b[38;5;28;43;01mfor\u001b[39;49;00m\u001b[43m \u001b[49m\u001b[43ms\u001b[49m\u001b[43m \u001b[49m\u001b[38;5;129;43;01min\u001b[39;49;00m\u001b[43m \u001b[49m\u001b[43mgraph\u001b[49m\u001b[38;5;241;43m.\u001b[39;49m\u001b[43mstream\u001b[49m\u001b[43m(\u001b[49m\n\u001b[1;32m      2\u001b[0m \u001b[43m    \u001b[49m\u001b[43m{\u001b[49m\n\u001b[1;32m      3\u001b[0m \u001b[43m        \u001b[49m\u001b[38;5;124;43m\"\u001b[39;49m\u001b[38;5;124;43mmessages\u001b[39;49m\u001b[38;5;124;43m\"\u001b[39;49m\u001b[43m:\u001b[49m\u001b[43m \u001b[49m\u001b[43m[\u001b[49m\n\u001b[1;32m      4\u001b[0m \u001b[43m            \u001b[49m\u001b[43mHumanMessage\u001b[49m\u001b[43m(\u001b[49m\u001b[43mcontent\u001b[49m\u001b[38;5;241;43m=\u001b[39;49m\u001b[38;5;124;43m\"\u001b[39;49m\u001b[38;5;124;43mHi, I wanna learn Datastructures\u001b[39;49m\u001b[38;5;124;43m\"\u001b[39;49m\u001b[43m)\u001b[49m\n\u001b[1;32m      5\u001b[0m \u001b[43m        \u001b[49m\u001b[43m]\u001b[49m\n\u001b[1;32m      6\u001b[0m \u001b[43m    \u001b[49m\u001b[43m}\u001b[49m\n\u001b[1;32m      7\u001b[0m \u001b[43m)\u001b[49m\u001b[43m:\u001b[49m\n\u001b[1;32m      8\u001b[0m \u001b[43m    \u001b[49m\u001b[38;5;28;43;01mif\u001b[39;49;00m\u001b[43m \u001b[49m\u001b[38;5;124;43m\"\u001b[39;49m\u001b[38;5;124;43m__end__\u001b[39;49m\u001b[38;5;124;43m\"\u001b[39;49m\u001b[43m \u001b[49m\u001b[38;5;129;43;01mnot\u001b[39;49;00m\u001b[43m \u001b[49m\u001b[38;5;129;43;01min\u001b[39;49;00m\u001b[43m \u001b[49m\u001b[43ms\u001b[49m\u001b[43m:\u001b[49m\n\u001b[1;32m      9\u001b[0m \u001b[43m        \u001b[49m\u001b[38;5;28;43mprint\u001b[39;49m\u001b[43m(\u001b[49m\u001b[43ms\u001b[49m\u001b[43m)\u001b[49m\n",
      "File \u001b[0;32m~/Documents/challenges/google-genai-xchange/quantum-tutor/.venv/lib/python3.12/site-packages/langgraph/pregel/__init__.py:1252\u001b[0m, in \u001b[0;36mPregel.stream\u001b[0;34m(self, input, config, stream_mode, output_keys, interrupt_before, interrupt_after, debug, subgraphs)\u001b[0m\n\u001b[1;32m   1250\u001b[0m     done, inflight \u001b[38;5;241m=\u001b[39m \u001b[38;5;28mset\u001b[39m(), \u001b[38;5;28mset\u001b[39m()\n\u001b[1;32m   1251\u001b[0m \u001b[38;5;28;01mwhile\u001b[39;00m futures:\n\u001b[0;32m-> 1252\u001b[0m     done, inflight \u001b[38;5;241m=\u001b[39m \u001b[43mconcurrent\u001b[49m\u001b[38;5;241;43m.\u001b[39;49m\u001b[43mfutures\u001b[49m\u001b[38;5;241;43m.\u001b[39;49m\u001b[43mwait\u001b[49m\u001b[43m(\u001b[49m\n\u001b[1;32m   1253\u001b[0m \u001b[43m        \u001b[49m\u001b[43mfutures\u001b[49m\u001b[43m,\u001b[49m\n\u001b[1;32m   1254\u001b[0m \u001b[43m        \u001b[49m\u001b[43mreturn_when\u001b[49m\u001b[38;5;241;43m=\u001b[39;49m\u001b[43mconcurrent\u001b[49m\u001b[38;5;241;43m.\u001b[39;49m\u001b[43mfutures\u001b[49m\u001b[38;5;241;43m.\u001b[39;49m\u001b[43mFIRST_COMPLETED\u001b[49m\u001b[43m,\u001b[49m\n\u001b[1;32m   1255\u001b[0m \u001b[43m        \u001b[49m\u001b[43mtimeout\u001b[49m\u001b[38;5;241;43m=\u001b[39;49m\u001b[43m(\u001b[49m\n\u001b[1;32m   1256\u001b[0m \u001b[43m            \u001b[49m\u001b[38;5;28;43mmax\u001b[39;49m\u001b[43m(\u001b[49m\u001b[38;5;241;43m0\u001b[39;49m\u001b[43m,\u001b[49m\u001b[43m \u001b[49m\u001b[43mend_time\u001b[49m\u001b[43m \u001b[49m\u001b[38;5;241;43m-\u001b[39;49m\u001b[43m \u001b[49m\u001b[43mtime\u001b[49m\u001b[38;5;241;43m.\u001b[39;49m\u001b[43mmonotonic\u001b[49m\u001b[43m(\u001b[49m\u001b[43m)\u001b[49m\u001b[43m)\u001b[49m\n\u001b[1;32m   1257\u001b[0m \u001b[43m            \u001b[49m\u001b[38;5;28;43;01mif\u001b[39;49;00m\u001b[43m \u001b[49m\u001b[43mend_time\u001b[49m\n\u001b[1;32m   1258\u001b[0m \u001b[43m            \u001b[49m\u001b[38;5;28;43;01melse\u001b[39;49;00m\u001b[43m \u001b[49m\u001b[38;5;28;43;01mNone\u001b[39;49;00m\n\u001b[1;32m   1259\u001b[0m \u001b[43m        \u001b[49m\u001b[43m)\u001b[49m\u001b[43m,\u001b[49m\n\u001b[1;32m   1260\u001b[0m \u001b[43m    \u001b[49m\u001b[43m)\u001b[49m\n\u001b[1;32m   1261\u001b[0m     \u001b[38;5;28;01mif\u001b[39;00m \u001b[38;5;129;01mnot\u001b[39;00m done:\n\u001b[1;32m   1262\u001b[0m         \u001b[38;5;28;01mbreak\u001b[39;00m  \u001b[38;5;66;03m# timed out\u001b[39;00m\n",
      "File \u001b[0;32m/usr/lib/python3.12/concurrent/futures/_base.py:305\u001b[0m, in \u001b[0;36mwait\u001b[0;34m(fs, timeout, return_when)\u001b[0m\n\u001b[1;32m    301\u001b[0m         \u001b[38;5;28;01mreturn\u001b[39;00m DoneAndNotDoneFutures(done, not_done)\n\u001b[1;32m    303\u001b[0m     waiter \u001b[38;5;241m=\u001b[39m _create_and_install_waiters(fs, return_when)\n\u001b[0;32m--> 305\u001b[0m \u001b[43mwaiter\u001b[49m\u001b[38;5;241;43m.\u001b[39;49m\u001b[43mevent\u001b[49m\u001b[38;5;241;43m.\u001b[39;49m\u001b[43mwait\u001b[49m\u001b[43m(\u001b[49m\u001b[43mtimeout\u001b[49m\u001b[43m)\u001b[49m\n\u001b[1;32m    306\u001b[0m \u001b[38;5;28;01mfor\u001b[39;00m f \u001b[38;5;129;01min\u001b[39;00m fs:\n\u001b[1;32m    307\u001b[0m     \u001b[38;5;28;01mwith\u001b[39;00m f\u001b[38;5;241m.\u001b[39m_condition:\n",
      "File \u001b[0;32m/usr/lib/python3.12/threading.py:655\u001b[0m, in \u001b[0;36mEvent.wait\u001b[0;34m(self, timeout)\u001b[0m\n\u001b[1;32m    653\u001b[0m signaled \u001b[38;5;241m=\u001b[39m \u001b[38;5;28mself\u001b[39m\u001b[38;5;241m.\u001b[39m_flag\n\u001b[1;32m    654\u001b[0m \u001b[38;5;28;01mif\u001b[39;00m \u001b[38;5;129;01mnot\u001b[39;00m signaled:\n\u001b[0;32m--> 655\u001b[0m     signaled \u001b[38;5;241m=\u001b[39m \u001b[38;5;28;43mself\u001b[39;49m\u001b[38;5;241;43m.\u001b[39;49m\u001b[43m_cond\u001b[49m\u001b[38;5;241;43m.\u001b[39;49m\u001b[43mwait\u001b[49m\u001b[43m(\u001b[49m\u001b[43mtimeout\u001b[49m\u001b[43m)\u001b[49m\n\u001b[1;32m    656\u001b[0m \u001b[38;5;28;01mreturn\u001b[39;00m signaled\n",
      "File \u001b[0;32m/usr/lib/python3.12/threading.py:355\u001b[0m, in \u001b[0;36mCondition.wait\u001b[0;34m(self, timeout)\u001b[0m\n\u001b[1;32m    353\u001b[0m \u001b[38;5;28;01mtry\u001b[39;00m:    \u001b[38;5;66;03m# restore state no matter what (e.g., KeyboardInterrupt)\u001b[39;00m\n\u001b[1;32m    354\u001b[0m     \u001b[38;5;28;01mif\u001b[39;00m timeout \u001b[38;5;129;01mis\u001b[39;00m \u001b[38;5;28;01mNone\u001b[39;00m:\n\u001b[0;32m--> 355\u001b[0m         \u001b[43mwaiter\u001b[49m\u001b[38;5;241;43m.\u001b[39;49m\u001b[43macquire\u001b[49m\u001b[43m(\u001b[49m\u001b[43m)\u001b[49m\n\u001b[1;32m    356\u001b[0m         gotit \u001b[38;5;241m=\u001b[39m \u001b[38;5;28;01mTrue\u001b[39;00m\n\u001b[1;32m    357\u001b[0m     \u001b[38;5;28;01melse\u001b[39;00m:\n",
      "\u001b[0;31mKeyboardInterrupt\u001b[0m: "
     ]
    }
   ],
   "source": [
    "for s in graph.stream(\n",
    "    {\n",
    "        \"messages\": [\n",
    "            HumanMessage(content=\"Hi, I wanna learn Datastructures\")\n",
    "        ]\n",
    "    }\n",
    "):\n",
    "    if \"__end__\" not in s:\n",
    "        print(s)\n",
    "        print(\"----\")"
   ]
  }
 ],
 "metadata": {
  "kernelspec": {
   "display_name": ".venv",
   "language": "python",
   "name": "python3"
  },
  "language_info": {
   "codemirror_mode": {
    "name": "ipython",
    "version": 3
   },
   "file_extension": ".py",
   "mimetype": "text/x-python",
   "name": "python",
   "nbconvert_exporter": "python",
   "pygments_lexer": "ipython3",
   "version": "3.12.5"
  }
 },
 "nbformat": 4,
 "nbformat_minor": 2
}
